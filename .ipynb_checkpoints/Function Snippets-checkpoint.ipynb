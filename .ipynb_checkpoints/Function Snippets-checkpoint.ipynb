{
 "cells": [
  {
   "cell_type": "markdown",
   "id": "671809e4",
   "metadata": {},
   "source": [
    "### Train-test split and encoding data to fit a model"
   ]
  },
  {
   "cell_type": "code",
   "execution_count": null,
   "id": "dca418d3",
   "metadata": {},
   "outputs": [],
   "source": [
    "import pandas as pd\n",
    "import numpy as np\n",
    "\n",
    "from sklearn.model_selection import train_test_split\n",
    "from sklearn.preprocessing import MinMaxScaler\n",
    "from sklearn.preprocessing import OneHotEncoder"
   ]
  },
  {
   "cell_type": "code",
   "execution_count": null,
   "id": "56a5be1b",
   "metadata": {},
   "outputs": [],
   "source": [
    "def get_ready(X,y):\n",
    "    # * Split the data into a training set and a test set.\n",
    "    X_train, X_test, y_train, y_test = train_test_split(X, y, test_size=0.25)\n",
    "    print(X_train.shape)\n",
    "    print(X_test.shape)\n",
    "    print(y_train.shape)\n",
    "    print(y_test.shape)\n",
    "\n",
    "    #split numericals - categoricals\n",
    "    X_train_num = X_train[num]\n",
    "    X_test_num = X_test[num]\n",
    "    \n",
    "    X_train_cat = X_train[cat_enc]\n",
    "    X_test_cat = X_test[cat_enc]\n",
    "      \n",
    "    \n",
    "    # * Scale the features either by using normalizer or a standard scaler.\n",
    "        \n",
    "    #fit and transform scaling numericals\n",
    "    minmax = MinMaxScaler().fit(X_train_num) \n",
    "    \n",
    "    X_train_norm = minmax.transform(X_train_num)\n",
    "    X_test_norm = minmax.transform(X_test_num)\n",
    "    \n",
    "    # convert to dataframe again\n",
    "    X_train_norm = pd.DataFrame(X_train_norm,columns=X_train_num.columns).reset_index(drop=True) \n",
    "    X_test_norm = pd.DataFrame(X_test_norm,columns=X_test_num.columns).reset_index(drop=True) \n",
    "    \n",
    "    # * Encode the categorical features using One-Hot Encoding or Ordinal Encoding\n",
    "    X_train_cat = X_train_cat.astype(str)\n",
    "    X_test_cat = X_test_cat.astype(str)\n",
    "    \n",
    "    #fit and transform encoding categoricals\n",
    "    onehot = OneHotEncoder(handle_unknown='error', drop='first').fit(X_train_cat) \n",
    "\n",
    "    cols = onehot.get_feature_names_out(input_features=X_train_cat.columns)\n",
    "    \n",
    "    X_train_enc = onehot.transform(X_train_cat).toarray()\n",
    "    X_test_enc = onehot.transform(X_test_cat).toarray()\n",
    "    \n",
    "    \n",
    "    # convert to dataframe again\n",
    "    X_train_enc = pd.DataFrame(X_train_enc,columns=cols).reset_index(drop=True)\n",
    "    X_test_enc = pd.DataFrame(X_test_enc, columns=cols).reset_index(drop=True)\n",
    "    \n",
    "   \n",
    "    #ready to fit the model\n",
    "    X_train_ready = pd.concat([X_train_norm,X_train_enc],axis=1)\n",
    "    X_test_ready = pd.concat([X_test_norm,X_test_enc],axis=1)\n",
    "    \n",
    "    return X_train_ready, X_test_ready, y_train, y_test"
   ]
  },
  {
   "cell_type": "markdown",
   "id": "72151008",
   "metadata": {},
   "source": [
    "## Try various models at a time"
   ]
  },
  {
   "cell_type": "code",
   "execution_count": null,
   "id": "6be8a22a",
   "metadata": {},
   "outputs": [],
   "source": [
    "from sklearn.linear_model import LinearRegression, SGDRegressor\n",
    "from sklearn.tree import DecisionTreeRegressor\n",
    "from sklearn.neighbors import KNeighborsRegressor"
   ]
  },
  {
   "cell_type": "code",
   "execution_count": null,
   "id": "5cede43b",
   "metadata": {},
   "outputs": [],
   "source": [
    "def models_automation(models, X_tr, y_tr, X_te, y_te):\n",
    "    for model in models:\n",
    "        model.fit(X_tr, y_tr)\n",
    "        print(f\"{model.__class__.__name__}: Train -> {model.score(X_tr, y_tr)}, Test -> {model.score(X_te, y_te)}\")\n",
    "#         pred = model.predict(X_te)  # for classifiers\n",
    "#         print(confusion_matrix(y_te, pred))\n",
    "    return"
   ]
  },
  {
   "cell_type": "code",
   "execution_count": null,
   "id": "7dd17b3f",
   "metadata": {},
   "outputs": [],
   "source": [
    "models = [LinearRegression(),SGDRegressor(), DecisionTreeRegressor()]"
   ]
  },
  {
   "cell_type": "markdown",
   "id": "124637a4",
   "metadata": {},
   "source": [
    "## Get all info for Logistic Regression"
   ]
  },
  {
   "cell_type": "code",
   "execution_count": null,
   "id": "eb2c2a4a",
   "metadata": {},
   "outputs": [],
   "source": [
    "def check_model(X_train, X_test, y_train, y_test):\n",
    "    \n",
    "    # * Fit a logistic regression model on the training data.\n",
    "    \n",
    "    LR = LogisticRegression(random_state=0, solver='lbfgs')\n",
    "    model = LR.fit(X_train, y_train)\n",
    "\n",
    "    # * Check the accuracy on the test data.\n",
    "    print(\"score: \",LR.score(X_test, y_test))\n",
    "    \n",
    "    \n",
    "    pred = LR.predict(X_test)\n",
    "\n",
    "    print(\"precision: \",precision_score(y_test,pred))\n",
    "    print(\"recall: \",recall_score(y_test,pred))\n",
    "    print(\"f1: \",f1_score(y_test,pred))\n",
    "    \n",
    "    \n",
    "    print(confusion_matrix(y_test, pred))\n",
    "    \n",
    "    return"
   ]
  },
  {
   "cell_type": "markdown",
   "id": "6ac87ec4",
   "metadata": {},
   "source": [
    "## Drop Unnamed"
   ]
  },
  {
   "cell_type": "code",
   "execution_count": null,
   "id": "31bc8f45",
   "metadata": {},
   "outputs": [],
   "source": [
    "def drop(df):\n",
    "    df = df.drop(['Unnamed: 0'],axis=1)\n",
    "    return df"
   ]
  },
  {
   "cell_type": "code",
   "execution_count": null,
   "id": "19d0caff",
   "metadata": {},
   "outputs": [],
   "source": []
  },
  {
   "cell_type": "code",
   "execution_count": null,
   "id": "fd17b2a5",
   "metadata": {},
   "outputs": [],
   "source": []
  },
  {
   "cell_type": "code",
   "execution_count": null,
   "id": "f9cf96f2",
   "metadata": {},
   "outputs": [],
   "source": []
  }
 ],
 "metadata": {
  "kernelspec": {
   "display_name": "Python 3 (ipykernel)",
   "language": "python",
   "name": "python3"
  },
  "language_info": {
   "codemirror_mode": {
    "name": "ipython",
    "version": 3
   },
   "file_extension": ".py",
   "mimetype": "text/x-python",
   "name": "python",
   "nbconvert_exporter": "python",
   "pygments_lexer": "ipython3",
   "version": "3.9.12"
  }
 },
 "nbformat": 4,
 "nbformat_minor": 5
}
